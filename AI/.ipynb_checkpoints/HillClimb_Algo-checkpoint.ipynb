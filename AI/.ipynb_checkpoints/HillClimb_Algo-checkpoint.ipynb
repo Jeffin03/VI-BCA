{
 "cells": [
  {
   "cell_type": "code",
   "execution_count": 1,
   "metadata": {},
   "outputs": [
    {
     "ename": "TypeError",
     "evalue": "object of type 'function' has no len()",
     "output_type": "error",
     "traceback": [
      "\u001b[0;31m---------------------------------------------------------------------------\u001b[0m",
      "\u001b[0;31mTypeError\u001b[0m                                 Traceback (most recent call last)",
      "Cell \u001b[0;32mIn[1], line 68\u001b[0m\n\u001b[1;32m     64\u001b[0m         best_neighbor,best_neighbor_path \u001b[38;5;241m=\u001b[39m neighbors(matrix,neighbor)\n\u001b[1;32m     66\u001b[0m     \u001b[38;5;28;01mreturn\u001b[39;00m current_path, current_solution\n\u001b[0;32m---> 68\u001b[0m final_solution \u001b[38;5;241m=\u001b[39m \u001b[43mhill_climbing\u001b[49m\u001b[43m(\u001b[49m\u001b[43mcoordinate\u001b[49m\u001b[43m)\u001b[49m\n\u001b[1;32m     69\u001b[0m \u001b[38;5;28mprint\u001b[39m(\u001b[38;5;124m\"\u001b[39m\u001b[38;5;124mThe solution is \u001b[39m\u001b[38;5;130;01m\\n\u001b[39;00m\u001b[38;5;124m\"\u001b[39m, final_solution[\u001b[38;5;241m1\u001b[39m])\n",
      "Cell \u001b[0;32mIn[1], line 63\u001b[0m, in \u001b[0;36mhill_climbing\u001b[0;34m(coordinate)\u001b[0m\n\u001b[1;32m     60\u001b[0m     current_solution \u001b[38;5;241m=\u001b[39m best_neighbor\n\u001b[1;32m     61\u001b[0m     current_path \u001b[38;5;241m=\u001b[39m best_neighbor_path\n\u001b[0;32m---> 63\u001b[0m     neighbor \u001b[38;5;241m=\u001b[39m \u001b[43mneighbors\u001b[49m\u001b[43m(\u001b[49m\u001b[43mmatrix\u001b[49m\u001b[43m,\u001b[49m\u001b[43mcurrent_solution\u001b[49m\u001b[43m)\u001b[49m[\u001b[38;5;241m0\u001b[39m]\n\u001b[1;32m     64\u001b[0m     best_neighbor,best_neighbor_path \u001b[38;5;241m=\u001b[39m neighbors(matrix,neighbor)\n\u001b[1;32m     66\u001b[0m \u001b[38;5;28;01mreturn\u001b[39;00m current_path, current_solution\n",
      "Cell \u001b[0;32mIn[1], line 33\u001b[0m, in \u001b[0;36mneighbors\u001b[0;34m(matrix, solution)\u001b[0m\n\u001b[1;32m     31\u001b[0m \u001b[38;5;28;01mdef\u001b[39;00m \u001b[38;5;21mneighbors\u001b[39m(matrix,solution):\n\u001b[1;32m     32\u001b[0m     neighbors \u001b[38;5;241m=\u001b[39m []\n\u001b[0;32m---> 33\u001b[0m     \u001b[38;5;28;01mfor\u001b[39;00m i \u001b[38;5;129;01min\u001b[39;00m \u001b[38;5;28mrange\u001b[39m(\u001b[38;5;28;43mlen\u001b[39;49m\u001b[43m(\u001b[49m\u001b[43msolution\u001b[49m\u001b[43m)\u001b[49m):\n\u001b[1;32m     34\u001b[0m         \u001b[38;5;28;01mfor\u001b[39;00m j \u001b[38;5;129;01min\u001b[39;00m \u001b[38;5;28mrange\u001b[39m(i \u001b[38;5;241m+\u001b[39m \u001b[38;5;241m1\u001b[39m, \u001b[38;5;28mlen\u001b[39m(solution)):\n\u001b[1;32m     35\u001b[0m             neighbor \u001b[38;5;241m=\u001b[39m solution\u001b[38;5;241m.\u001b[39mcopy()\n",
      "\u001b[0;31mTypeError\u001b[0m: object of type 'function' has no len()"
     ]
    }
   ],
   "source": [
    "import random\n",
    "import numpy as np\n",
    "import networkx as nx\n",
    "\n",
    "coordinate = np.array([[1,2],[30,21],[56,23],[8,18],[20,50],[3,4],[11,6],[6,7],[15,20],[10,9],[12,12]])\n",
    "\n",
    "def generate_matrix(coordinate):\n",
    "    matrix = []\n",
    "    for i in range(len(coordinate)):\n",
    "        for j in range(len(coordinate)):\n",
    "            p = np.linalg.norm(coordinate[i] - coordinate[j])\n",
    "            matrix.append(p)\n",
    "    matrix = np.reshape(matrix,(len(coordinate),len(coordinate)))\n",
    "    return matrix\n",
    "\n",
    "def solution(matrix):\n",
    "    points = list(range(0,len(matrix)))\n",
    "    solution = []\n",
    "    for i in range(0,len(matrix)):\n",
    "        random_point = points[random.randint(0,len(points)-1)]\n",
    "        solution.append(random_point)\n",
    "        points.remove(random_point)\n",
    "    return solution\n",
    "\n",
    "def path_length(matrix,solution):\n",
    "    cycle_length = 0\n",
    "    for i in range(0,len(solution)):\n",
    "        cycle_length += matrix[solution[i]][solution[i - 1]]\n",
    "    return cycle_length\n",
    "\n",
    "def neighbors(matrix,solution):\n",
    "    neighbors = []\n",
    "    for i in range(len(solution)):\n",
    "        for j in range(i + 1, len(solution)):\n",
    "            neighbor = solution.copy()\n",
    "            neighbor[i] = solution[j]\n",
    "            neighbor[j] = solution[i]\n",
    "            neighbors.append(neighbor)\n",
    "    return neighbors\n",
    "#     best_neighbor = neighbors[0]\n",
    "#     best_path = path_length(matrix, best_neighbor)\n",
    "    \n",
    "#     for neighbor in neighbors:\n",
    "#         current_path = path_length(matrix,neighbor)\n",
    "#         if current_path < best_path:\n",
    "#             best_path = current_path\n",
    "#             best_neighbor = neighbor\n",
    "#     return best_neighbor, best_path\n",
    "\n",
    "def hill_climbing(coordinate):\n",
    "    matrix = generate_matrix(coordinate)\n",
    "    \n",
    "    current_solution = solution(matrix)\n",
    "    current_path = path_length(matrix,current_solution)\n",
    "    neighbor = neighbors(matrix, current_solution)[0]\n",
    "    \n",
    "    best_neighbor,best_neighbor_path = neighbors, path_length(matrix, neighbor)\n",
    "    \n",
    "    while best_neighbor_path < current_path:\n",
    "        current_solution = best_neighbor\n",
    "        current_path = best_neighbor_path\n",
    "        \n",
    "        neighbor = neighbors(matrix,current_solution)[0]\n",
    "        best_neighbor,best_neighbor_path = neighbors(matrix,neighbor)\n",
    "        \n",
    "    return current_path, current_solution\n",
    "\n",
    "final_solution = hill_climbing(coordinate)\n",
    "print(\"The solution is \\n\", final_solution[1])\n",
    "    "
   ]
  },
  {
   "cell_type": "code",
   "execution_count": null,
   "metadata": {},
   "outputs": [],
   "source": []
  },
  {
   "cell_type": "code",
   "execution_count": null,
   "metadata": {},
   "outputs": [],
   "source": []
  }
 ],
 "metadata": {
  "kernelspec": {
   "display_name": "Python 3 (ipykernel)",
   "language": "python",
   "name": "python3"
  },
  "language_info": {
   "codemirror_mode": {
    "name": "ipython",
    "version": 3
   },
   "file_extension": ".py",
   "mimetype": "text/x-python",
   "name": "python",
   "nbconvert_exporter": "python",
   "pygments_lexer": "ipython3",
   "version": "3.10.12"
  }
 },
 "nbformat": 4,
 "nbformat_minor": 4
}
