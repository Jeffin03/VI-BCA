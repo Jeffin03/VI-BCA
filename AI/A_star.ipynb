{
 "cells": [
  {
   "cell_type": "code",
   "execution_count": 1,
   "metadata": {},
   "outputs": [
    {
     "name": "stdout",
     "output_type": "stream",
     "text": [
      "Optimal Path:  B-->D-->G\n"
     ]
    }
   ],
   "source": [
    "import heapq\n",
    "\n",
    "def a_star(graph,heuristic,start,goal):\n",
    "    visited = set()\n",
    "    open_set = [(0 + heuristic[start],start)]\n",
    "    came_from = {}\n",
    "    g_score = {start:0}\n",
    "    \n",
    "    while open_set:\n",
    "        _,current_node = heapq.heappop(open_set)\n",
    "        visited.add(current_node)\n",
    "        \n",
    "        if current_node == goal:\n",
    "            return reconstruct_path(came_from,current_node)\n",
    "        \n",
    "        \n",
    "        neighbors = graph[current_node]\n",
    "        for neighbor, cost in neighbors:\n",
    "            if neighbor not in visited:\n",
    "                new_g_score = g_score[current_node] + cost\n",
    "                \n",
    "                if neighbor not in g_score or new_g_score < g_score[neighbor]:\n",
    "                    g_score[neighbor] = new_g_score\n",
    "                    f_cost = new_g_score + heuristic[neighbor]\n",
    "                    heapq.heappush(open_set,(f_cost,neighbor))\n",
    "                    came_from[neighbor] = current_node\n",
    "                \n",
    "    return None        \n",
    "        \n",
    "        \n",
    "def reconstruct_path(came_from,current):\n",
    "    path = []\n",
    "    while current in came_from:\n",
    "        path.append(current)\n",
    "        current = came_from[current]\n",
    "    path.append(current)\n",
    "    return path[::-1]\n",
    "\n",
    "graph = {\n",
    "    'S':[('A',1),('G',10)],\n",
    "    'A':[('B',2),('C',1)],\n",
    "    'B':[('D',5)],\n",
    "    'C':[('D',3),('G',4)],\n",
    "    'D':[('G',2)],\n",
    "    'G':[]\n",
    "}  \n",
    "    \n",
    "heuristic = {\n",
    "    'S':5,\n",
    "    'A':3,\n",
    "    'B':6,\n",
    "    'C':2,\n",
    "    'D':6,\n",
    "    'G':0\n",
    "}\n",
    "\n",
    "start_node = 'B'\n",
    "goal_node = 'G'\n",
    "\n",
    "result = a_star(graph,heuristic,start_node,goal_node)\n",
    "if result:\n",
    "    print(\"Optimal Path: \",'-->'.join(result))\n",
    "else:\n",
    "    print(\"No path found.\")\n"
   ]
  },
  {
   "cell_type": "code",
   "execution_count": null,
   "metadata": {},
   "outputs": [],
   "source": []
  },
  {
   "cell_type": "code",
   "execution_count": null,
   "metadata": {},
   "outputs": [],
   "source": []
  }
 ],
 "metadata": {
  "kernelspec": {
   "display_name": "Python 3 (ipykernel)",
   "language": "python",
   "name": "python3"
  },
  "language_info": {
   "codemirror_mode": {
    "name": "ipython",
    "version": 3
   },
   "file_extension": ".py",
   "mimetype": "text/x-python",
   "name": "python",
   "nbconvert_exporter": "python",
   "pygments_lexer": "ipython3",
   "version": "3.10.13"
  }
 },
 "nbformat": 4,
 "nbformat_minor": 4
}
