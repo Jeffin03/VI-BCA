{
 "cells": [
  {
   "cell_type": "code",
   "execution_count": 17,
   "metadata": {},
   "outputs": [
    {
     "name": "stdout",
     "output_type": "stream",
     "text": [
      "Some humans are intelligent.\n"
     ]
    }
   ],
   "source": [
    "# To implement predicate logic concepts using Python\n",
    "class Human:\n",
    "    def __init__(self, name):\n",
    "        self.name = name\n",
    "        \n",
    "class Intelligent:\n",
    "    def __init__(self, entity):\n",
    "        self.entity = entity\n",
    "\n",
    "def is_some_humans_intelligent(humans):\n",
    "    for human in humans:\n",
    "        if isinstance(human, Intelligent):\n",
    "            return True\n",
    "    return False\n",
    "\n",
    "alice = Human(\"Alice\")\n",
    "bob = Human(\"Bob\")\n",
    "charlie = Intelligent(Human(\"Charlie\"))\n",
    "\n",
    "humans = [alice, bob, charlie]\n",
    "\n",
    "if is_some_humans_intelligent(humans):\n",
    "    print(\"Some humans are intelligent.\")\n",
    "else:\n",
    "    print(\"No humans are intelligent.\")\n"
   ]
  },
  {
   "cell_type": "code",
   "execution_count": 11,
   "metadata": {},
   "outputs": [
    {
     "name": "stdout",
     "output_type": "stream",
     "text": [
      "Sachin likes cricket.\n"
     ]
    }
   ],
   "source": [
    "class Person:\n",
    "    def __init__(self, name):\n",
    "        self.name = name\n",
    "        \n",
    "class LikesCricket:\n",
    "    def __init__(self, person):\n",
    "        self.person = person\n",
    "\n",
    "def does_sachin_like_cricket(people):\n",
    "    for person in people:\n",
    "        if isinstance(person, LikesCricket):\n",
    "            return True\n",
    "    return False\n",
    "\n",
    "sachin = LikesCricket(Person(\"Sachin\"))\n",
    "people = [sachin]\n",
    "\n",
    "if does_sachin_like_cricket(people):\n",
    "    print(\"Sachin likes cricket.\")\n",
    "else:\n",
    "    print(\"Sachin does not like cricket.\")\n"
   ]
  },
  {
   "cell_type": "code",
   "execution_count": 24,
   "metadata": {},
   "outputs": [
    {
     "name": "stdout",
     "output_type": "stream",
     "text": [
      "Ravi and Ajay are brothers.\n"
     ]
    }
   ],
   "source": [
    "class Person:\n",
    "    def __init__(self, name):\n",
    "        self.name = name\n",
    "        \n",
    "class Brothers:\n",
    "    def __init__(self, person1,person2):\n",
    "        self.person1 = person1\n",
    "        self.person2 = person2\n",
    "\n",
    "def are_ravi_and_ajay_brothers(people):\n",
    "    for relation in people:\n",
    "        if isinstance(relation, Brothers):\n",
    "            return True\n",
    "    return False\n",
    "\n",
    "ravi = Person(\"Ravi\")\n",
    "ajay = Person(\"Ajay\")\n",
    "\n",
    "brother_relation = Brothers(ravi, ajay)\n",
    "people_relation = [brother_relation]\n",
    "\n",
    "if are_ravi_and_ajay_brothers(people_relation):\n",
    "    print(\"Ravi and Ajay are brothers.\")\n",
    "else:\n",
    "    print(\"Ravi and ajay are not brothers.\")\n"
   ]
  },
  {
   "cell_type": "code",
   "execution_count": 25,
   "metadata": {},
   "outputs": [
    {
     "name": "stdout",
     "output_type": "stream",
     "text": [
      "Chinky is a cat.\n"
     ]
    }
   ],
   "source": [
    "class Animal:\n",
    "    def __init__(self, name):\n",
    "        self.name = name\n",
    "        \n",
    "class Cat(Animal):\n",
    "    pass\n",
    "\n",
    "def is_chinky_a_cat(animals):\n",
    "    for animal in animals:\n",
    "        if isinstance(animal, Cat):\n",
    "            return True\n",
    "    return False\n",
    "\n",
    "chinky = Cat(\"Chinky\")\n",
    "other_animal= Animal(\"Dog\")\n",
    "\n",
    "animals = [chinky, other_animal]\n",
    "\n",
    "if is_chinky_a_cat(animals):\n",
    "    print(\"Chinky is a cat.\")\n",
    "else:\n",
    "    print(\"Chinky is not a cat.\")\n"
   ]
  },
  {
   "cell_type": "code",
   "execution_count": null,
   "metadata": {},
   "outputs": [],
   "source": []
  }
 ],
 "metadata": {
  "kernelspec": {
   "display_name": "Python 3",
   "language": "python",
   "name": "python3"
  },
  "language_info": {
   "codemirror_mode": {
    "name": "ipython",
    "version": 3
   },
   "file_extension": ".py",
   "mimetype": "text/x-python",
   "name": "python",
   "nbconvert_exporter": "python",
   "pygments_lexer": "ipython3",
   "version": "3.7.1"
  }
 },
 "nbformat": 4,
 "nbformat_minor": 2
}
